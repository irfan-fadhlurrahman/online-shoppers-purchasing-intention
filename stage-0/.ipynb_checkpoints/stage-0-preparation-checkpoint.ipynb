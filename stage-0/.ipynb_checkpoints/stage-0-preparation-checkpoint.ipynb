{
 "cells": [
  {
   "cell_type": "markdown",
   "id": "06607e33-e6f0-47e4-b43f-29e4ee5db09c",
   "metadata": {},
   "source": [
    "## Problem Statement\n",
    "Tren belanja online di Indonesia berkembang sangat pesat. Jumlah konsumen yang belanja online di Indonesia sebanyak 32 juta orang pada 2021 dengan total transaksi 401 triliun rupiah . Kenaikan jumlah konsumen mencapai 88 persen dibandingkan pada tahun 2020 yang hanya 17 juta orang. Hal ini terjadi karena pandemi COVID-19 yang merubah perilaku konsumen akibat harus beraktivitas di rumah sejak 2020. Sehingga momentum ini perlu dimanfaatkan perusahaan untuk meningkatkan revenue. Namun seiring dengan perkembangan jumlah konsumen yang pesat juga menimbulkan persaingan yang lebih kompetitif di antara e-commerce. \n",
    "\n",
    "Perusahaan ecommerce Anaconda mencatat hanya mendapatkan revenue dari 15% total pengunjung website atau sebanyak 1908 pengunjung. Hal ini menunjukkan mayoritas pengunjung website hanya sekedar mengunjungi website tanpa melakukan transaksi apapun. Agar perusahaan tidak kalah bersaing dengan kompetitor lain dan menjadi penyedia belanja online nomor 1 di Indonesia, Perusahaan Anaconda harus meningkatkan purchase rate yaitu jumlah pengunjung website yang melakukan transaksi sehingga menghasilkan revenue per total pengunjung website. \n",
    "\n",
    "Untuk meningkatkan purchase rate menjadi lebih dari 15% maka harus menganalisis data perilaku-perilaku pengunjung website untuk menemukan insights sebagai acuan untuk memberikan rekomendasi aksi serta membuat machine learning model untuk memprediksi apakah seorang pengunjung website akan menghasilkan revenue atau tidak.\n",
    "\n",
    "\n",
    "## Role\n",
    "Sebagai tim data scientist suatu perusahan ecommerce PT Anaconda, bertanggung jawab untuk menganalisa data-data yang berkaitan dengan perilaku visitor terkini dan potensi peningkatan jumlah pengunjung yang menghasilkan revenue untuk menyusun strategi pemasaran yang lebih tetap sasaran.\n",
    "\n",
    "## Goals\n",
    "Meningkatkan jumlah pengunjung website yang menghasilkan revenue hingga 25% dari total pengunjung website.\n",
    "\n",
    "## Objective\n",
    "* Memberikan insights dan rekomendasi aksi untuk meningkatkan jumlah pengunjung website yang menghasilkan revenue. \n",
    "* Membuat machine learning model untuk memprediksi apakah seorang pengunjung website akan menghasilkan revenue atau tidak\n",
    "* Menganalisis perilaku pengunjung website yang tidak melakukan transaksi\n",
    "\n",
    "## Business Metrics\n",
    "Purchase rate: jumlah pengunjung website yang menghasilkan revenue per total pengunjung website\n",
    "\n",
    "## Reference\n",
    "* [Konsumen Belanja Online RI Melonjak 88 Persen pada 2021, CNN Indonesia](https://www.cnnindonesia.com/ekonomi/20211229141536-92-740093/konsumen-belanja-online-ri-melonjak-88-persen-pada-2021#:~:text=NielsenIQ%20mencatat%20jumlah%20konsumen%20belanja,yang%20hanya%2017%20juta%20orang.)\n",
    "* [BI Catat Nilai Transaksi E-Commerce Tembus Rp401 Triliun pada 2021](https://ekonomi.bisnis.com/read/20220127/9/1494047/bi-catat-nilai-transaksi-e-commerce-tembus-rp401-triliun-pada-2021)"
   ]
  }
 ],
 "metadata": {
  "kernelspec": {
   "display_name": "Python 3 (ipykernel)",
   "language": "python",
   "name": "python3"
  },
  "language_info": {
   "codemirror_mode": {
    "name": "ipython",
    "version": 3
   },
   "file_extension": ".py",
   "mimetype": "text/x-python",
   "name": "python",
   "nbconvert_exporter": "python",
   "pygments_lexer": "ipython3",
   "version": "3.7.11"
  }
 },
 "nbformat": 4,
 "nbformat_minor": 5
}
